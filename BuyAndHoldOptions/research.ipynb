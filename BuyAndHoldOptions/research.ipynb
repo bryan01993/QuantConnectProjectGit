{
 "cells": [
  {
   "cell_type": "code",
   "execution_count": null,
   "metadata": {
    "is_executing": true
   },
   "outputs": [],
   "source": [
    "# QuantBook Analysis Tool\n",
    "# For more information see https://www.quantconnect.com/docs/research/overview\n",
    "from datetime import datetime\n",
    "qb = QuantBook()\n",
    "goog = qb.AddEquity(\"GOOG\").Symbol\n",
    "addedoption = qb.AddOption(\"GOOG\")\n",
    "close = qb.History(goog, datetime(2015,1,1), datetime(2017,8,1), Resolution.Daily).close\n",
    "print(addedoption)\n"
   ]
  },
  {
   "cell_type": "markdown",
   "metadata": {},
   "source": [
    "![QuantConnect Logo](https://cdn.quantconnect.com/web/i/icon.png)\n",
    "<hr>"
   ]
  },
  {
   "cell_type": "code",
   "execution_count": 2,
   "metadata": {},
   "outputs": [],
   "source": [
    "from AlgorithmImports import *\n",
    "from datetime import timedelta"
   ]
  },
  {
   "cell_type": "code",
   "execution_count": 14,
   "metadata": {},
   "outputs": [
    {
     "data": {
      "text/plain": [
       "<__main__.BuyAndHoldOptions object at 0x7f59b403f840>"
      ]
     },
     "execution_count": 14,
     "metadata": {},
     "output_type": "execute_result"
    }
   ],
   "source": [
    "class BuyAndHoldOptions(QCAlgorithm):\n",
    "    def Initialize(self):\n",
    "        self.SetStartDate(2013, 10, 7)  # Set Start Date\n",
    "        self.SetEndDate(2015, 10, 11)  # Set End Date\n",
    "        self.SetCash(100000)  # Set Strategy Cash\n",
    "        equity = self.AddEquity(\"MSFT\", Resolution.Hour)\n",
    "        equity.SetDataNormalizationMode(DataNormalizationMode.Raw)\n",
    "        self.equity = equity.Symbol\n",
    "        self.SetBenchmark(self.equity)\n",
    "\n",
    "        self.option = self.AddOption(\"MSFT\", resolution=Resolution.Hour)\n",
    "        print(type(self.option))\n",
    "        self.option.SetFilter(-3, 3, timedelta(20), timedelta(40))\n",
    "\n",
    "        self.high = self.MAX(self.equity, 21, Resolution.Daily, Field.High)\n",
    "        self.low = self.MIN(self.equity, 21, Resolution.Daily, Field.Low)\n",
    "        print(\"BuyAndHoldOptions Initialized\")\n",
    "        \n",
    "        \n",
    "BuyAndHoldOptions()\n",
    "# print(BuyAndHoldOptions)"
   ]
  },
  {
   "cell_type": "code",
   "execution_count": 6,
   "metadata": {},
   "outputs": [
    {
     "name": "stdout",
     "output_type": "stream",
     "text": [
      "[<QuantConnect.Api.Backtest object at 0x7f5efbaea280>, <QuantConnect.Api.Backtest object at 0x7f5efb8d2180>, <QuantConnect.Api.Backtest object at 0x7f5efb8f5800>, <QuantConnect.Api.Backtest object at 0x7f5efb8f5b00>, <QuantConnect.Api.Backtest object at 0x7f5efb88e200>, <QuantConnect.Api.Backtest object at 0x7f5efb88e9c0>, <QuantConnect.Api.Backtest object at 0x7f5efb88eb00>, <QuantConnect.Api.Backtest object at 0x7f59b7313840>, <QuantConnect.Api.Backtest object at 0x7f5f28211280>]\n"
     ]
    }
   ],
   "source": [
    "\"\"\" Esta parte va dirigida hacia la logica que lleva los backtests en un orden especifico, por lo que es es necesario implementarlo como una libreria para todos los algoritmos desarrollados\"\"\"\n",
    "\n",
    "### List backtests objects in cloud TODO get the names of the files rather than their place in memory\n",
    "list_projects = api.ListBacktests(16037541) # Takes a project ID \n",
    "print(list_projects.Backtests)"
   ]
  },
  {
   "cell_type": "code",
   "execution_count": 8,
   "metadata": {},
   "outputs": [
    {
     "name": "stdout",
     "output_type": "stream",
     "text": [
      "Creative Fluorescent Orange Ant\n"
     ]
    }
   ],
   "source": [
    "backtest = api.ReadBacktest(16037541, \"Creative Fluorescent Orange Ant\")\n",
    "print(backtest.BacktestId)"
   ]
  },
  {
   "cell_type": "code",
   "execution_count": 9,
   "metadata": {},
   "outputs": [
    {
     "name": "stdout",
     "output_type": "stream",
     "text": [
      "None\n"
     ]
    }
   ],
   "source": [
    "backtest_list = api.ReadBacktestReport(16037541, \"Creative Fluorescent Orange Ant\")\n",
    "print(backtest_list.Report)"
   ]
  },
  {
   "cell_type": "code",
   "execution_count": null,
   "metadata": {},
   "outputs": [],
   "source": []
  }
 ],
 "metadata": {
  "kernelspec": {
   "display_name": "Foundation-Py-Default",
   "language": "python",
   "name": "python3"
  },
  "language_info": {
   "codemirror_mode": {
    "name": "ipython",
    "version": 3
   },
   "file_extension": ".py",
   "mimetype": "text/x-python",
   "name": "python",
   "nbconvert_exporter": "python",
   "pygments_lexer": "ipython3",
   "version": "3.8.16"
  }
 },
 "nbformat": 4,
 "nbformat_minor": 4
}
